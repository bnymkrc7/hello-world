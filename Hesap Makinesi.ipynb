{
 "cells": [
  {
   "cell_type": "code",
   "execution_count": 2,
   "id": "54eff7db",
   "metadata": {},
   "outputs": [
    {
     "name": "stdout",
     "output_type": "stream",
     "text": [
      "Hesap Makinemize Hoş Geldiniz :)\n",
      "ilk sayınızı giriniz:1903\n",
      "ikinci sayınızı giriniz:48\n",
      "işlemler \n",
      "1)toplama \n",
      "2)çıkarma \n",
      "3)çarpma \n",
      "4)bölme \n",
      "5)üssünü al\n",
      "yapmak istediğiniz işlemi seçiniz3\n",
      "91344.0\n"
     ]
    }
   ],
   "source": [
    "print(\"Hesap Makinemize Hoş Geldiniz : )\")\n",
    "sayı1=float(input(\"ilk sayınızı giriniz : \"))\n",
    "sayı2=float(input(\"ikinci sayınızı giriniz :\"))\n",
    "print(\"işlemler \\n1)toplama \\n2)çıkarma \\n3)çarpma \\n4)bölme \\n5)üssünü al\")\n",
    "işlem=float(input(\"yapmak istediğiniz işlemi seçiniz : \"))\n",
    "if işlem==1:\n",
    "    print(sayı1+sayı2)\n",
    "elif işlem==2:\n",
    "    print(sayı1-sayı2)\n",
    "elif işlem==3:\n",
    "    print(sayı1*sayı2)\n",
    "elif işlem==4:\n",
    "    print(sayı1/sayı2)\n",
    "elif işlem==5:\n",
    "    print(sayı1**sayı2)\n",
    "else:\n",
    "    print(\"sana işlemleri söyledik bu girdiğinde işlem yok orospu çocuğu siktir git \\niyi günler\")"
   ]
  },
  {
   "cell_type": "code",
   "execution_count": null,
   "id": "7dccf8f2",
   "metadata": {},
   "outputs": [],
   "source": []
  },
  {
   "cell_type": "code",
   "execution_count": null,
   "id": "13f36b74",
   "metadata": {},
   "outputs": [],
   "source": []
  }
 ],
 "metadata": {
  "kernelspec": {
   "display_name": "Python 3",
   "language": "python",
   "name": "python3"
  },
  "language_info": {
   "codemirror_mode": {
    "name": "ipython",
    "version": 3
   },
   "file_extension": ".py",
   "mimetype": "text/x-python",
   "name": "python",
   "nbconvert_exporter": "python",
   "pygments_lexer": "ipython3",
   "version": "3.8.8"
  }
 },
 "nbformat": 4,
 "nbformat_minor": 5
}
